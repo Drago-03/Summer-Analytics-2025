{
 "cells": [
  {
   "cell_type": "markdown",
   "id": "439e1426",
   "metadata": {},
   "source": [
    "# Summer Analytics 2025 – Week 1\n",
    "### Assignment Submission\n",
    "**Author**: Mantej Singh"
   ]
  },
  {
   "cell_type": "code",
   "execution_count": null,
   "id": "ad9946b4",
   "metadata": {},
   "outputs": [],
   "source": [
    "import pandas as pd\n",
    "import numpy as np\n",
    "import matplotlib.pyplot as plt\n"
   ]
  },
  {
   "cell_type": "code",
   "execution_count": null,
   "id": "aa28b1da",
   "metadata": {},
   "outputs": [],
   "source": [
    "# Load the dataset\n",
    "df = pd.read_csv(\"Cars.csv\")\n",
    "df.head()\n"
   ]
  },
  {
   "cell_type": "markdown",
   "id": "7c8cc527",
   "metadata": {},
   "source": [
    "### Q1. What is the output of the following NumPy code?"
   ]
  },
  {
   "cell_type": "code",
   "execution_count": null,
   "id": "ab250784",
   "metadata": {},
   "outputs": [],
   "source": [
    "import numpy as np\n",
    "A = np.arange(12).reshape(3, 4)\n",
    "B = np.array([1, 2, 3])\n",
    "C = A[:, ::2]\n",
    "D = B[:, None] * C\n",
    "print(D.shape)\n",
    "print(D)\n"
   ]
  },
  {
   "cell_type": "markdown",
   "id": "2a8e2553",
   "metadata": {},
   "source": [
    "### Q2. Most appropriate central tendency measure for: [30,35,40,40,50,55,500]"
   ]
  },
  {
   "cell_type": "code",
   "execution_count": null,
   "id": "cb81d199",
   "metadata": {},
   "outputs": [],
   "source": [
    "import numpy as np\n",
    "data = [30,35,40,40,50,55,500]\n",
    "mean = np.mean(data)\n",
    "median = np.median(data)\n",
    "mode = max(set(data), key=data.count)\n",
    "print(\"Mean:\", round(mean, 2))\n",
    "print(\"Median:\", median)\n",
    "print(\"Mode:\", mode)\n",
    "# Median is most appropriate due to extreme outlier\n"
   ]
  },
  {
   "cell_type": "markdown",
   "id": "4ea554bb",
   "metadata": {},
   "source": [
    "### Q3. Output of loop with `else` after `break`"
   ]
  },
  {
   "cell_type": "code",
   "execution_count": null,
   "id": "5ca71c96",
   "metadata": {},
   "outputs": [],
   "source": [
    "for i in range(5):\n",
    "    if i % 2 == 0:\n",
    "        break\n",
    "else:\n",
    "    print(\"Done\")\n",
    "print(\"Finished\")\n",
    "# Output: Finished\n"
   ]
  },
  {
   "cell_type": "markdown",
   "id": "e9bce27b",
   "metadata": {},
   "source": [
    "### Q4. Quartile and IQR after adding an outlier"
   ]
  },
  {
   "cell_type": "code",
   "execution_count": null,
   "id": "ad430577",
   "metadata": {},
   "outputs": [],
   "source": [
    "import numpy as np\n",
    "data = [10, 15, 20, 25, 30, 35, 1000]\n",
    "q1 = np.percentile(data, 25)\n",
    "q3 = np.percentile(data, 75)\n",
    "iqr = q3 - q1\n",
    "print(\"Q1:\", q1, \"Q3:\", q3, \"IQR:\", iqr)\n",
    "# Q1 and Q3 remain relatively stable; IQR remains ~constant\n"
   ]
  },
  {
   "cell_type": "markdown",
   "id": "17312d7d",
   "metadata": {},
   "source": [
    "### Q5. Rolling 7-day max as green dotted line"
   ]
  },
  {
   "cell_type": "code",
   "execution_count": null,
   "id": "2b97250d",
   "metadata": {},
   "outputs": [],
   "source": [
    "dates = pd.date_range('2025-01-01', periods=90)\n",
    "temps = pd.Series(15 + 10 * np.sin(np.linspace(0, 3 * np.pi, 90)), index=dates)\n",
    "df_t = pd.DataFrame({'temp': temps})\n",
    "plt.plot(df_t.index, df_t['temp'], 'b-')\n",
    "plt.plot(df_t.index, df_t['temp'].rolling(7).max(), linestyle=':', color='green')\n",
    "plt.title(\"Daily Temp and 7-Day Rolling Max\")\n",
    "plt.show()\n"
   ]
  },
  {
   "cell_type": "markdown",
   "id": "49a67258",
   "metadata": {},
   "source": [
    "### Q6. Which variables are ordinal?"
   ]
  },
  {
   "cell_type": "code",
   "execution_count": null,
   "id": "cc6b5272",
   "metadata": {},
   "outputs": [],
   "source": [
    "ordinal = [\"Feeling happy?\", \"Social class\"]\n",
    "print(\"Ordinal variables:\", ordinal)\n"
   ]
  },
  {
   "cell_type": "markdown",
   "id": "4c35c6a9",
   "metadata": {},
   "source": [
    "### Q7. Which expressions return True?"
   ]
  },
  {
   "cell_type": "code",
   "execution_count": null,
   "id": "5bc574b3",
   "metadata": {},
   "outputs": [],
   "source": [
    "my_list = [10, 20, 30]\n",
    "my_dict = {'x': 10, 'y': 20, 'z': 30}\n",
    "print(20 in my_list)   # True\n",
    "print(20 in my_dict)   # False (checks keys)\n",
    "print('y' in my_list)  # False\n"
   ]
  },
  {
   "cell_type": "markdown",
   "id": "c38ed7d8",
   "metadata": {},
   "source": [
    "## Graded Questions (Q8–Q12)"
   ]
  },
  {
   "cell_type": "code",
   "execution_count": null,
   "id": "7f2b8532",
   "metadata": {},
   "outputs": [],
   "source": [
    "# Q8: Car with highest horsepower\n",
    "max_hp = df['horsepower'].max()\n",
    "car_name = df[df['horsepower'] == max_hp]['name'].iloc[0]\n",
    "print(\"Car with highest horsepower:\", car_name)\n"
   ]
  },
  {
   "cell_type": "code",
   "execution_count": null,
   "id": "97a3b134",
   "metadata": {},
   "outputs": [],
   "source": [
    "# Q9: Cars with mpg >= 35\n",
    "count = df[df['mpg'] >= 35].shape[0]\n",
    "print(\"Number of cars with mpg >= 35:\", count)\n"
   ]
  },
  {
   "cell_type": "code",
   "execution_count": null,
   "id": "eaee1502",
   "metadata": {},
   "outputs": [],
   "source": [
    "# Q10: Most common origin for hp > 100 and weight < 3000\n",
    "subset = df[(df['horsepower'] > 100) & (df['weight'] < 3000)]\n",
    "most_common_origin = subset['origin'].value_counts().idxmax()\n",
    "origin_map = {1: \"usa\", 2: \"europe\", 3: \"japan\"}\n",
    "print(\"Most common origin:\", origin_map[most_common_origin])\n"
   ]
  },
  {
   "cell_type": "code",
   "execution_count": null,
   "id": "d43cbfa5",
   "metadata": {},
   "outputs": [],
   "source": [
    "# Q11: Mean acceleration of cars from Japan\n",
    "mean_acc = df[df['origin'] == 3]['acceleration'].mean()\n",
    "print(\"Mean acceleration (Japan):\", round(mean_acc, 2))\n"
   ]
  },
  {
   "cell_type": "code",
   "execution_count": null,
   "id": "4bfa1c9e",
   "metadata": {},
   "outputs": [],
   "source": [
    "# Q12: Year with highest average mpg\n",
    "max_year = df.groupby('model_year')['mpg'].mean().idxmax()\n",
    "print(\"Year with highest average mpg:\", max_year)\n"
   ]
  }
 ],
 "metadata": {},
 "nbformat": 4,
 "nbformat_minor": 5
}